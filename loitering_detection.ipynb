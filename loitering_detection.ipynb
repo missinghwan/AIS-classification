{
 "cells": [
  {
   "cell_type": "code",
   "execution_count": 1,
   "metadata": {
    "collapsed": true
   },
   "outputs": [],
   "source": [
    "import pandas as pd\n",
    "import numpy as np\n",
    "import folium\n",
    "from IPython.display import HTML, display\n",
    "import matplotlib.pyplot as plt\n",
    "import math\n",
    "from datetime import datetime, timedelta"
   ]
  },
  {
   "cell_type": "code",
   "execution_count": 2,
   "outputs": [],
   "source": [
    "fuca = pd.read_csv('./data/fuca_1.csv')"
   ],
   "metadata": {
    "collapsed": false
   }
  },
  {
   "cell_type": "code",
   "execution_count": 3,
   "outputs": [
    {
     "data": {
      "text/plain": "367098550    41893\n367384780    41314\n367530080    41193\n366772750    40771\n366773030    40606\n             ...  \n367774000        1\n316013966        1\n316026345        1\n367733390        1\n367376170        1\nName: MMSI, Length: 2364, dtype: int64"
     },
     "execution_count": 3,
     "metadata": {},
     "output_type": "execute_result"
    }
   ],
   "source": [
    "fuca['MMSI'].value_counts()"
   ],
   "metadata": {
    "collapsed": false
   }
  },
  {
   "cell_type": "code",
   "execution_count": null,
   "outputs": [],
   "source": [
    "rec1 = fuca[fuca['MMSI'] == 367384780].sort_values('BaseDateTime', ascending=True).reset_index(drop=True)"
   ],
   "metadata": {
    "collapsed": false
   }
  },
  {
   "cell_type": "code",
   "execution_count": null,
   "outputs": [],
   "source": [
    "rec1"
   ],
   "metadata": {
    "collapsed": false
   }
  },
  {
   "cell_type": "code",
   "execution_count": null,
   "outputs": [],
   "source": [
    "Dk = rec1['Length'].min() * 0.001 * 4.5\n",
    "\n",
    "def is_stopping_point(prev, cur):\n",
    "    a = prev[0] - cur['LAT']\n",
    "    b = prev[1] - cur['LON']\n",
    "    dist = math.sqrt((a*a + b*b)) * 111.32\n",
    "    if dist < Dk:\n",
    "        return True\n",
    "    else:\n",
    "        return False"
   ],
   "metadata": {
    "collapsed": false
   }
  },
  {
   "cell_type": "code",
   "execution_count": null,
   "outputs": [],
   "source": [
    "moving_points = []\n",
    "stopping_points = []\n",
    "index = []\n",
    "# for cluster_id in rec1['cluster'].unique():\n",
    "    # if cluster_id != -1:\n",
    "    # cluster = rec1[rec1['cluster'] == cluster_id].reset_index(drop=True)\n",
    "cluster = rec1.reset_index(drop=True)\n",
    "cur_loc = cluster.loc[0]\n",
    "index.append(0)\n",
    "moving_points.append((cur_loc['LAT'], cur_loc['LON']))\n",
    "for i in range(len(cluster)):\n",
    "    cur_loc = cluster.loc[i]\n",
    "    prev_loc = moving_points[-1]\n",
    "    if is_stopping_point(prev_loc, cur_loc):\n",
    "        stopping_points.append((cur_loc['LAT'], cur_loc['LON']))\n",
    "    else:\n",
    "        moving_points.append((cur_loc['LAT'], cur_loc['LON']))\n",
    "        index.append(i)\n"
   ],
   "metadata": {
    "collapsed": false
   }
  },
  {
   "cell_type": "code",
   "execution_count": null,
   "outputs": [],
   "source": [
    "index = []\n",
    "moving_points = []\n",
    "cur_loc = rec1.loc[0]\n",
    "index.append(0)\n",
    "start_index = 0\n",
    "end_index = 0\n",
    "flag = -1\n",
    "moving_points.append((cur_loc['LAT'], cur_loc['LON']))\n",
    "\n",
    "for i in range(1, len(rec1)):\n",
    "    cur_loc = cluster.loc[i]\n",
    "    prev_loc = moving_points[-1]\n",
    "    if is_stopping_point(prev_loc, cur_loc):\n",
    "        if flag == 0:\n",
    "            start_index = i\n",
    "            flag = 1\n",
    "    else:\n",
    "        if flag == 1:\n",
    "            end_index = i-1\n",
    "            flag = 0\n",
    "            term = pd.to_datetime(rec1['BaseDateTime'][end_index]) - pd.to_datetime(rec1['BaseDateTime'][start_index])\n",
    "            if term < timedelta(minutes=120):\n",
    "                index.extend(x for x in range(start_index, end_index+1))\n",
    "        elif flag == -1:\n",
    "            flag = 0\n",
    "\n",
    "        moving_points.append((cur_loc['LAT'], cur_loc['LON']))\n",
    "        index.append(i)\n"
   ],
   "metadata": {
    "collapsed": false
   }
  },
  {
   "cell_type": "code",
   "execution_count": null,
   "outputs": [],
   "source": [
    "len(index)"
   ],
   "metadata": {
    "collapsed": false
   }
  },
  {
   "cell_type": "code",
   "execution_count": null,
   "outputs": [],
   "source": [
    "new_index = []\n",
    "new_index.append(index[0])\n",
    "temp = []\n",
    "cnt = 0\n",
    "for i in range(1, len(index)):\n",
    "    temp.append(index[i])\n",
    "    if index[i]-index[i-1] > 1:\n",
    "        if cnt > 20:\n",
    "            new_index.extend(temp)\n",
    "            cnt = 0\n",
    "            temp = []\n",
    "        else:\n",
    "            temp = []\n",
    "            cnt = 0\n",
    "    else:\n",
    "        cnt += 1"
   ],
   "metadata": {
    "collapsed": false
   }
  },
  {
   "cell_type": "code",
   "execution_count": null,
   "outputs": [],
   "source": [
    "temp = []\n",
    "temp.extend([x for x in range(33, 60)])"
   ],
   "metadata": {
    "collapsed": false
   }
  },
  {
   "cell_type": "code",
   "execution_count": null,
   "outputs": [],
   "source": [
    "len(new_index)"
   ],
   "metadata": {
    "collapsed": false
   }
  },
  {
   "cell_type": "code",
   "execution_count": null,
   "outputs": [],
   "source": [
    "len(rec1)"
   ],
   "metadata": {
    "collapsed": false
   }
  },
  {
   "cell_type": "code",
   "execution_count": null,
   "outputs": [],
   "source": [
    "color = ['r', 'g', 'b']\n",
    "color_map = []\n",
    "flag = 0\n",
    "for i in range(len(new_index)):\n",
    "    if new_index[i] - new_index[i - 1] > 1:\n",
    "        flag += 1\n",
    "        color_map.append(color[flag % 3])\n",
    "    else:\n",
    "        color_map.append(color[flag % 3])"
   ],
   "metadata": {
    "collapsed": false
   }
  },
  {
   "cell_type": "code",
   "execution_count": null,
   "outputs": [],
   "source": [
    "moving = rec1.reset_index(drop=True).iloc[index]"
   ],
   "metadata": {
    "collapsed": false
   }
  },
  {
   "cell_type": "code",
   "execution_count": null,
   "outputs": [],
   "source": [
    "moving['x'] = ((moving[\"LON\"] + 180) / 360) * (2 ** 16)\n",
    "moving['y'] = (1 - np.log(np.tan(math.pi * moving[\"LAT\"] / 180) + 1 / np.cos(math.pi * moving[\"LAT\"] / 180)) / math.pi) * (2 ** (16 - 1))"
   ],
   "metadata": {
    "collapsed": false
   }
  },
  {
   "cell_type": "code",
   "execution_count": null,
   "outputs": [],
   "source": [
    "moving"
   ],
   "metadata": {
    "collapsed": false
   }
  },
  {
   "cell_type": "code",
   "execution_count": null,
   "outputs": [],
   "source": [
    "MT1 = moving.loc[3592:3746]"
   ],
   "metadata": {
    "collapsed": false
   }
  },
  {
   "cell_type": "code",
   "execution_count": null,
   "outputs": [],
   "source": [
    "MT1"
   ],
   "metadata": {
    "collapsed": false
   }
  },
  {
   "cell_type": "code",
   "execution_count": null,
   "outputs": [],
   "source": [
    "MT1.plot(kind='scatter', x='x', y='y', figsize=(10,10), s=3)\n",
    "plt.show()"
   ],
   "metadata": {
    "collapsed": false
   }
  },
  {
   "cell_type": "code",
   "execution_count": null,
   "outputs": [],
   "source": [
    "len(MT1)"
   ],
   "metadata": {
    "collapsed": false
   }
  },
  {
   "cell_type": "code",
   "execution_count": null,
   "outputs": [],
   "source": [
    "MT1.info()"
   ],
   "metadata": {
    "collapsed": false
   }
  },
  {
   "cell_type": "code",
   "execution_count": null,
   "outputs": [],
   "source": [
    "MT1['BaseDateTime'].to_datetime()"
   ],
   "metadata": {
    "collapsed": false
   }
  },
  {
   "cell_type": "code",
   "execution_count": null,
   "outputs": [],
   "source": [
    "from datetime import datetime, timedelta"
   ],
   "metadata": {
    "collapsed": false
   }
  },
  {
   "cell_type": "code",
   "execution_count": null,
   "outputs": [],
   "source": [
    "pd.to_datetime(MT1['BaseDateTime'].loc[3592]) + timedelta(minutes=60)"
   ],
   "metadata": {
    "collapsed": false
   }
  },
  {
   "cell_type": "code",
   "execution_count": null,
   "outputs": [],
   "source": [
    "MT1_1 = MT1[pd.to_datetime(MT1['BaseDateTime']) <= pd.to_datetime(MT1['BaseDateTime'].loc[3592]) + timedelta(minutes=60)]"
   ],
   "metadata": {
    "collapsed": false
   }
  },
  {
   "cell_type": "code",
   "execution_count": null,
   "outputs": [],
   "source": [
    "MT1_1"
   ],
   "metadata": {
    "collapsed": false
   }
  },
  {
   "cell_type": "code",
   "execution_count": null,
   "outputs": [],
   "source": [
    "MT1_1['x'].min(), MT1_1['x'].max()"
   ],
   "metadata": {
    "collapsed": false
   }
  },
  {
   "cell_type": "code",
   "execution_count": null,
   "outputs": [],
   "source": [
    "MT1_1['y'].min(), MT1_1['y'].max()"
   ],
   "metadata": {
    "collapsed": false
   }
  },
  {
   "cell_type": "code",
   "execution_count": null,
   "outputs": [],
   "source": [
    "((np.ceil(MT1_1['x'].max()) - np.floor(MT1_1['x'].min())) + (np.ceil(MT1_1['y'].max()) - np.floor(MT1_1['y'].min()))) * 2"
   ],
   "metadata": {
    "collapsed": false
   }
  },
  {
   "cell_type": "code",
   "execution_count": null,
   "outputs": [],
   "source": [
    "MT1_1.reset_index()"
   ],
   "metadata": {
    "collapsed": false
   }
  },
  {
   "cell_type": "code",
   "execution_count": null,
   "outputs": [],
   "source": [
    "moving.reset_index(inplace=True)"
   ],
   "metadata": {
    "collapsed": false
   }
  },
  {
   "cell_type": "code",
   "execution_count": null,
   "outputs": [],
   "source": [
    "moving"
   ],
   "metadata": {
    "collapsed": false
   }
  },
  {
   "cell_type": "code",
   "execution_count": null,
   "outputs": [],
   "source": [
    "moving['index'][1]"
   ],
   "metadata": {
    "collapsed": false
   }
  },
  {
   "cell_type": "code",
   "execution_count": null,
   "outputs": [],
   "source": [
    "MT_index = []\n",
    "for i in range(1, len(moving['index'])):\n",
    "    diff = moving['index'][i] - moving['index'][i-1]\n",
    "    if diff > 1:\n",
    "        MT_index.append(i)"
   ],
   "metadata": {
    "collapsed": false
   }
  },
  {
   "cell_type": "code",
   "execution_count": null,
   "outputs": [],
   "source": [
    "MT_index"
   ],
   "metadata": {
    "collapsed": false
   }
  },
  {
   "cell_type": "code",
   "execution_count": null,
   "outputs": [],
   "source": [
    "len(MT_index)"
   ],
   "metadata": {
    "collapsed": false
   }
  },
  {
   "cell_type": "code",
   "execution_count": null,
   "outputs": [],
   "source": [
    "MT1 = moving.iloc[1:170]"
   ],
   "metadata": {
    "collapsed": false
   }
  },
  {
   "cell_type": "code",
   "execution_count": null,
   "outputs": [],
   "source": [
    "MT1"
   ],
   "metadata": {
    "collapsed": false
   }
  },
  {
   "cell_type": "code",
   "execution_count": null,
   "outputs": [],
   "source": [
    "((np.ceil(MT1['x'].max()) - np.floor(MT1['x'].min())) + (np.ceil(MT1['y'].max()) - np.floor(MT1['y'].min()))) * 2"
   ],
   "metadata": {
    "collapsed": false
   }
  },
  {
   "cell_type": "code",
   "execution_count": null,
   "outputs": [],
   "source": [
    "n_o = []\n",
    "for i in range(len(MT1)):\n",
    "    n_o.append((np.floor(MT1['x'].iloc[i]), np.floor(MT1['y'].iloc[i])))"
   ],
   "metadata": {
    "collapsed": false
   }
  },
  {
   "cell_type": "code",
   "execution_count": null,
   "outputs": [],
   "source": [
    "len(set(n_o))"
   ],
   "metadata": {
    "collapsed": false
   }
  },
  {
   "cell_type": "code",
   "execution_count": null,
   "outputs": [],
   "source": [
    "n_c = 0\n",
    "for i in range(len(MT1)-1):\n",
    "    dx = np.abs(np.floor(MT1.iloc[i]['x']) - np.floor(MT1.iloc[i+1]['x']))\n",
    "    dy = np.abs(np.floor(MT1.iloc[i]['y']) - np.floor(MT1.iloc[i+1]['y']))\n",
    "    n_c += max(max(dx, dy)-1, 0)"
   ],
   "metadata": {
    "collapsed": false
   }
  },
  {
   "cell_type": "code",
   "execution_count": null,
   "outputs": [],
   "source": [
    "cnt = 0\n",
    "for i in range(len(MT_index)-1):\n",
    "    if MT_index[i+1] - MT_index[i] < 120: continue\n",
    "    MT = moving.iloc[MT_index[i]:MT_index[i+1]]\n",
    "    n_o = []\n",
    "    for j in range(len(MT)):\n",
    "        n_o.append((np.floor(MT.iloc[j]['x']), np.floor(MT.iloc[j]['y'])))\n",
    "    n_o = len(set(n_o))\n",
    "    n_c = 0\n",
    "    for j in range(len(MT)-1):\n",
    "        dx = np.abs(np.floor(MT.iloc[j]['x']) - np.floor(MT.iloc[j+1]['x']))\n",
    "        dy = np.abs(np.floor(MT.iloc[j]['y']) - np.floor(MT.iloc[j+1]['y']))\n",
    "        n_c += max(max(dx, dy)-1, 0)\n",
    "    n = n_o + n_c\n",
    "    c = ((np.ceil(MT['x'].max()) - np.floor(MT['x'].min())) + (np.ceil(MT['y'].max()) - np.floor(MT['y'].min()))) * 2\n",
    "    if n >= c: cnt += 1\n",
    "    print(n_o, n_c, n, c)\n",
    "print(cnt)"
   ],
   "metadata": {
    "collapsed": false
   }
  },
  {
   "cell_type": "code",
   "execution_count": 58,
   "outputs": [
    {
     "data": {
      "text/plain": "               MMSI         BaseDateTime       LAT        LON  SOG    COG  \\\n0         367479990  2017-01-01T00:00:03  48.15891 -122.67268  0.1   10.1   \n1         367585430  2017-01-01T00:00:12  48.51293 -122.60735  0.0 -101.2   \n2         316021351  2017-01-01T00:00:00  49.29479 -123.13286  0.0 -118.3   \n3         367536390  2017-01-01T00:00:39  48.68218 -123.40237  0.0   82.1   \n4         316005771  2017-01-01T00:00:47  48.95017 -125.55641  0.0  -94.6   \n...             ...                  ...       ...        ...  ...    ...   \n20501871  367420850  2017-01-31T23:42:40  47.63768 -122.33877  0.0  -49.6   \n20501872  316028652  2017-01-31T23:43:59  49.20391 -123.14538 -0.1  -49.6   \n20501873  316028652  2017-01-31T23:51:20  49.20389 -123.14539 -0.1  -49.6   \n20501874  316028652  2017-01-31T23:52:41  49.20391 -123.14539 -0.1  -49.6   \n20501875  367150410  2017-01-31T23:54:35  46.08346 -123.97821  2.9  -72.7   \n\n          Heading        VesselName         IMO CallSign  VesselType  \\\n0           353.0     WSF KENNEWICK  IMO9618331  WDF6991      1012.0   \n1           511.0          MAKARIOS         NaN  WDG9205      1019.0   \n2           511.0         BRITANNIA  IMO8120650   VY5348      1012.0   \n3           511.0     APRIL LOON II         NaN  WDG4420      1019.0   \n4           511.0  WESTERN INVESTOR  IMO7927788   VG6273      1001.0   \n...           ...               ...         ...      ...         ...   \n20501871     88.0            SPIRIT         NaN  WDE9749      1019.0   \n20501872    309.0      NEW FRONTIER         NaN      NaN      1019.0   \n20501873    305.0      NEW FRONTIER         NaN      NaN      1019.0   \n20501874    307.0      NEW FRONTIER         NaN      NaN      1019.0   \n20501875    511.0             MAJOR         NaN  WDJ4359      1001.0   \n\n                          Status  Length  Width  Draft  Cargo  \n0                         moored   83.39  19.50    3.2    NaN  \n1                            NaN   18.11   5.10    NaN    NaN  \n2         under way using engine   38.41   9.76    2.8   60.0  \n3                            NaN   14.94   4.70    NaN    NaN  \n4                            NaN   24.06   7.17    2.9    NaN  \n...                          ...     ...    ...    ...    ...  \n20501871                  moored   16.95   5.10    NaN   37.0  \n20501872  under way using engine   19.08   5.90    1.4   37.0  \n20501873  under way using engine   19.08   5.90    1.4   37.0  \n20501874  under way using engine   19.08   5.90    1.4   37.0  \n20501875                     NaN   15.00   5.20    NaN    NaN  \n\n[20501876 rows x 16 columns]",
      "text/html": "<div>\n<style scoped>\n    .dataframe tbody tr th:only-of-type {\n        vertical-align: middle;\n    }\n\n    .dataframe tbody tr th {\n        vertical-align: top;\n    }\n\n    .dataframe thead th {\n        text-align: right;\n    }\n</style>\n<table border=\"1\" class=\"dataframe\">\n  <thead>\n    <tr style=\"text-align: right;\">\n      <th></th>\n      <th>MMSI</th>\n      <th>BaseDateTime</th>\n      <th>LAT</th>\n      <th>LON</th>\n      <th>SOG</th>\n      <th>COG</th>\n      <th>Heading</th>\n      <th>VesselName</th>\n      <th>IMO</th>\n      <th>CallSign</th>\n      <th>VesselType</th>\n      <th>Status</th>\n      <th>Length</th>\n      <th>Width</th>\n      <th>Draft</th>\n      <th>Cargo</th>\n    </tr>\n  </thead>\n  <tbody>\n    <tr>\n      <th>0</th>\n      <td>367479990</td>\n      <td>2017-01-01T00:00:03</td>\n      <td>48.15891</td>\n      <td>-122.67268</td>\n      <td>0.1</td>\n      <td>10.1</td>\n      <td>353.0</td>\n      <td>WSF KENNEWICK</td>\n      <td>IMO9618331</td>\n      <td>WDF6991</td>\n      <td>1012.0</td>\n      <td>moored</td>\n      <td>83.39</td>\n      <td>19.50</td>\n      <td>3.2</td>\n      <td>NaN</td>\n    </tr>\n    <tr>\n      <th>1</th>\n      <td>367585430</td>\n      <td>2017-01-01T00:00:12</td>\n      <td>48.51293</td>\n      <td>-122.60735</td>\n      <td>0.0</td>\n      <td>-101.2</td>\n      <td>511.0</td>\n      <td>MAKARIOS</td>\n      <td>NaN</td>\n      <td>WDG9205</td>\n      <td>1019.0</td>\n      <td>NaN</td>\n      <td>18.11</td>\n      <td>5.10</td>\n      <td>NaN</td>\n      <td>NaN</td>\n    </tr>\n    <tr>\n      <th>2</th>\n      <td>316021351</td>\n      <td>2017-01-01T00:00:00</td>\n      <td>49.29479</td>\n      <td>-123.13286</td>\n      <td>0.0</td>\n      <td>-118.3</td>\n      <td>511.0</td>\n      <td>BRITANNIA</td>\n      <td>IMO8120650</td>\n      <td>VY5348</td>\n      <td>1012.0</td>\n      <td>under way using engine</td>\n      <td>38.41</td>\n      <td>9.76</td>\n      <td>2.8</td>\n      <td>60.0</td>\n    </tr>\n    <tr>\n      <th>3</th>\n      <td>367536390</td>\n      <td>2017-01-01T00:00:39</td>\n      <td>48.68218</td>\n      <td>-123.40237</td>\n      <td>0.0</td>\n      <td>82.1</td>\n      <td>511.0</td>\n      <td>APRIL LOON II</td>\n      <td>NaN</td>\n      <td>WDG4420</td>\n      <td>1019.0</td>\n      <td>NaN</td>\n      <td>14.94</td>\n      <td>4.70</td>\n      <td>NaN</td>\n      <td>NaN</td>\n    </tr>\n    <tr>\n      <th>4</th>\n      <td>316005771</td>\n      <td>2017-01-01T00:00:47</td>\n      <td>48.95017</td>\n      <td>-125.55641</td>\n      <td>0.0</td>\n      <td>-94.6</td>\n      <td>511.0</td>\n      <td>WESTERN INVESTOR</td>\n      <td>IMO7927788</td>\n      <td>VG6273</td>\n      <td>1001.0</td>\n      <td>NaN</td>\n      <td>24.06</td>\n      <td>7.17</td>\n      <td>2.9</td>\n      <td>NaN</td>\n    </tr>\n    <tr>\n      <th>...</th>\n      <td>...</td>\n      <td>...</td>\n      <td>...</td>\n      <td>...</td>\n      <td>...</td>\n      <td>...</td>\n      <td>...</td>\n      <td>...</td>\n      <td>...</td>\n      <td>...</td>\n      <td>...</td>\n      <td>...</td>\n      <td>...</td>\n      <td>...</td>\n      <td>...</td>\n      <td>...</td>\n    </tr>\n    <tr>\n      <th>20501871</th>\n      <td>367420850</td>\n      <td>2017-01-31T23:42:40</td>\n      <td>47.63768</td>\n      <td>-122.33877</td>\n      <td>0.0</td>\n      <td>-49.6</td>\n      <td>88.0</td>\n      <td>SPIRIT</td>\n      <td>NaN</td>\n      <td>WDE9749</td>\n      <td>1019.0</td>\n      <td>moored</td>\n      <td>16.95</td>\n      <td>5.10</td>\n      <td>NaN</td>\n      <td>37.0</td>\n    </tr>\n    <tr>\n      <th>20501872</th>\n      <td>316028652</td>\n      <td>2017-01-31T23:43:59</td>\n      <td>49.20391</td>\n      <td>-123.14538</td>\n      <td>-0.1</td>\n      <td>-49.6</td>\n      <td>309.0</td>\n      <td>NEW FRONTIER</td>\n      <td>NaN</td>\n      <td>NaN</td>\n      <td>1019.0</td>\n      <td>under way using engine</td>\n      <td>19.08</td>\n      <td>5.90</td>\n      <td>1.4</td>\n      <td>37.0</td>\n    </tr>\n    <tr>\n      <th>20501873</th>\n      <td>316028652</td>\n      <td>2017-01-31T23:51:20</td>\n      <td>49.20389</td>\n      <td>-123.14539</td>\n      <td>-0.1</td>\n      <td>-49.6</td>\n      <td>305.0</td>\n      <td>NEW FRONTIER</td>\n      <td>NaN</td>\n      <td>NaN</td>\n      <td>1019.0</td>\n      <td>under way using engine</td>\n      <td>19.08</td>\n      <td>5.90</td>\n      <td>1.4</td>\n      <td>37.0</td>\n    </tr>\n    <tr>\n      <th>20501874</th>\n      <td>316028652</td>\n      <td>2017-01-31T23:52:41</td>\n      <td>49.20391</td>\n      <td>-123.14539</td>\n      <td>-0.1</td>\n      <td>-49.6</td>\n      <td>307.0</td>\n      <td>NEW FRONTIER</td>\n      <td>NaN</td>\n      <td>NaN</td>\n      <td>1019.0</td>\n      <td>under way using engine</td>\n      <td>19.08</td>\n      <td>5.90</td>\n      <td>1.4</td>\n      <td>37.0</td>\n    </tr>\n    <tr>\n      <th>20501875</th>\n      <td>367150410</td>\n      <td>2017-01-31T23:54:35</td>\n      <td>46.08346</td>\n      <td>-123.97821</td>\n      <td>2.9</td>\n      <td>-72.7</td>\n      <td>511.0</td>\n      <td>MAJOR</td>\n      <td>NaN</td>\n      <td>WDJ4359</td>\n      <td>1001.0</td>\n      <td>NaN</td>\n      <td>15.00</td>\n      <td>5.20</td>\n      <td>NaN</td>\n      <td>NaN</td>\n    </tr>\n  </tbody>\n</table>\n<p>20501876 rows × 16 columns</p>\n</div>"
     },
     "execution_count": 58,
     "metadata": {},
     "output_type": "execute_result"
    }
   ],
   "source": [
    "fuca"
   ],
   "metadata": {
    "collapsed": false
   }
  },
  {
   "cell_type": "code",
   "execution_count": null,
   "outputs": [],
   "source": [
    "fuca['MMSI'].value_counts()"
   ],
   "metadata": {
    "collapsed": false
   }
  },
  {
   "cell_type": "code",
   "execution_count": 20,
   "outputs": [
    {
     "data": {
      "text/plain": "               MMSI         BaseDateTime       LAT        LON  SOG  COG  \\\n38        367081260  2017-01-01T00:01:12  48.60392 -123.17231  0.0  0.0   \n145       367081260  2017-01-01T00:02:22  48.60392 -123.17231  0.0  0.0   \n147       367081260  2017-01-01T00:03:32  48.60392 -123.17231  0.0  0.0   \n150       367081260  2017-01-01T00:04:41  48.60392 -123.17231  0.0  0.0   \n1611      367081260  2017-01-01T00:00:00  48.60392 -123.17231  0.0  0.0   \n...             ...                  ...       ...        ...  ...  ...   \n20498410  367081260  2017-01-31T23:13:34  48.00206 -122.22301  0.0  0.0   \n20500548  367081260  2017-01-31T23:26:13  48.00206 -122.22301  0.0  0.0   \n20500568  367081260  2017-01-31T23:47:25  48.00206 -122.22301  0.0  0.0   \n20501100  367081260  2017-01-31T23:50:54  48.00206 -122.22301  0.0  0.0   \n20501106  367081260  2017-01-31T23:53:15  48.00206 -122.22301  0.0  0.0   \n\n          Heading      VesselName  IMO CallSign  VesselType  \\\n38          511.0  ALASKA VENTURE  NaN  WDC8074      1005.0   \n145         511.0  ALASKA VENTURE  NaN  WDC8074      1005.0   \n147         511.0  ALASKA VENTURE  NaN  WDC8074      1005.0   \n150         511.0  ALASKA VENTURE  NaN  WDC8074      1005.0   \n1611        511.0  ALASKA VENTURE  NaN  WDC8074      1005.0   \n...           ...             ...  ...      ...         ...   \n20498410    511.0  ALASKA VENTURE  NaN  WDC8074      1005.0   \n20500548    511.0  ALASKA VENTURE  NaN  WDC8074      1005.0   \n20500568    511.0  ALASKA VENTURE  NaN  WDC8074      1005.0   \n20501100    511.0  ALASKA VENTURE  NaN  WDC8074      1005.0   \n20501106    511.0  ALASKA VENTURE  NaN  WDC8074      1005.0   \n\n                          Status  Length  Width  Draft  Cargo  \n38        under way using engine   20.94    7.9    NaN   34.0  \n145       under way using engine   20.94    7.9    NaN   34.0  \n147       under way using engine   20.94    7.9    NaN   34.0  \n150       under way using engine   20.94    7.9    NaN   34.0  \n1611      under way using engine   20.94    7.9    NaN   34.0  \n...                          ...     ...    ...    ...    ...  \n20498410  under way using engine   20.94    7.9    NaN   34.0  \n20500548  under way using engine   20.94    7.9    NaN   34.0  \n20500568  under way using engine   20.94    7.9    NaN   34.0  \n20501100  under way using engine   20.94    7.9    NaN   34.0  \n20501106  under way using engine   20.94    7.9    NaN   34.0  \n\n[6353 rows x 16 columns]",
      "text/html": "<div>\n<style scoped>\n    .dataframe tbody tr th:only-of-type {\n        vertical-align: middle;\n    }\n\n    .dataframe tbody tr th {\n        vertical-align: top;\n    }\n\n    .dataframe thead th {\n        text-align: right;\n    }\n</style>\n<table border=\"1\" class=\"dataframe\">\n  <thead>\n    <tr style=\"text-align: right;\">\n      <th></th>\n      <th>MMSI</th>\n      <th>BaseDateTime</th>\n      <th>LAT</th>\n      <th>LON</th>\n      <th>SOG</th>\n      <th>COG</th>\n      <th>Heading</th>\n      <th>VesselName</th>\n      <th>IMO</th>\n      <th>CallSign</th>\n      <th>VesselType</th>\n      <th>Status</th>\n      <th>Length</th>\n      <th>Width</th>\n      <th>Draft</th>\n      <th>Cargo</th>\n    </tr>\n  </thead>\n  <tbody>\n    <tr>\n      <th>38</th>\n      <td>367081260</td>\n      <td>2017-01-01T00:01:12</td>\n      <td>48.60392</td>\n      <td>-123.17231</td>\n      <td>0.0</td>\n      <td>0.0</td>\n      <td>511.0</td>\n      <td>ALASKA VENTURE</td>\n      <td>NaN</td>\n      <td>WDC8074</td>\n      <td>1005.0</td>\n      <td>under way using engine</td>\n      <td>20.94</td>\n      <td>7.9</td>\n      <td>NaN</td>\n      <td>34.0</td>\n    </tr>\n    <tr>\n      <th>145</th>\n      <td>367081260</td>\n      <td>2017-01-01T00:02:22</td>\n      <td>48.60392</td>\n      <td>-123.17231</td>\n      <td>0.0</td>\n      <td>0.0</td>\n      <td>511.0</td>\n      <td>ALASKA VENTURE</td>\n      <td>NaN</td>\n      <td>WDC8074</td>\n      <td>1005.0</td>\n      <td>under way using engine</td>\n      <td>20.94</td>\n      <td>7.9</td>\n      <td>NaN</td>\n      <td>34.0</td>\n    </tr>\n    <tr>\n      <th>147</th>\n      <td>367081260</td>\n      <td>2017-01-01T00:03:32</td>\n      <td>48.60392</td>\n      <td>-123.17231</td>\n      <td>0.0</td>\n      <td>0.0</td>\n      <td>511.0</td>\n      <td>ALASKA VENTURE</td>\n      <td>NaN</td>\n      <td>WDC8074</td>\n      <td>1005.0</td>\n      <td>under way using engine</td>\n      <td>20.94</td>\n      <td>7.9</td>\n      <td>NaN</td>\n      <td>34.0</td>\n    </tr>\n    <tr>\n      <th>150</th>\n      <td>367081260</td>\n      <td>2017-01-01T00:04:41</td>\n      <td>48.60392</td>\n      <td>-123.17231</td>\n      <td>0.0</td>\n      <td>0.0</td>\n      <td>511.0</td>\n      <td>ALASKA VENTURE</td>\n      <td>NaN</td>\n      <td>WDC8074</td>\n      <td>1005.0</td>\n      <td>under way using engine</td>\n      <td>20.94</td>\n      <td>7.9</td>\n      <td>NaN</td>\n      <td>34.0</td>\n    </tr>\n    <tr>\n      <th>1611</th>\n      <td>367081260</td>\n      <td>2017-01-01T00:00:00</td>\n      <td>48.60392</td>\n      <td>-123.17231</td>\n      <td>0.0</td>\n      <td>0.0</td>\n      <td>511.0</td>\n      <td>ALASKA VENTURE</td>\n      <td>NaN</td>\n      <td>WDC8074</td>\n      <td>1005.0</td>\n      <td>under way using engine</td>\n      <td>20.94</td>\n      <td>7.9</td>\n      <td>NaN</td>\n      <td>34.0</td>\n    </tr>\n    <tr>\n      <th>...</th>\n      <td>...</td>\n      <td>...</td>\n      <td>...</td>\n      <td>...</td>\n      <td>...</td>\n      <td>...</td>\n      <td>...</td>\n      <td>...</td>\n      <td>...</td>\n      <td>...</td>\n      <td>...</td>\n      <td>...</td>\n      <td>...</td>\n      <td>...</td>\n      <td>...</td>\n      <td>...</td>\n    </tr>\n    <tr>\n      <th>20498410</th>\n      <td>367081260</td>\n      <td>2017-01-31T23:13:34</td>\n      <td>48.00206</td>\n      <td>-122.22301</td>\n      <td>0.0</td>\n      <td>0.0</td>\n      <td>511.0</td>\n      <td>ALASKA VENTURE</td>\n      <td>NaN</td>\n      <td>WDC8074</td>\n      <td>1005.0</td>\n      <td>under way using engine</td>\n      <td>20.94</td>\n      <td>7.9</td>\n      <td>NaN</td>\n      <td>34.0</td>\n    </tr>\n    <tr>\n      <th>20500548</th>\n      <td>367081260</td>\n      <td>2017-01-31T23:26:13</td>\n      <td>48.00206</td>\n      <td>-122.22301</td>\n      <td>0.0</td>\n      <td>0.0</td>\n      <td>511.0</td>\n      <td>ALASKA VENTURE</td>\n      <td>NaN</td>\n      <td>WDC8074</td>\n      <td>1005.0</td>\n      <td>under way using engine</td>\n      <td>20.94</td>\n      <td>7.9</td>\n      <td>NaN</td>\n      <td>34.0</td>\n    </tr>\n    <tr>\n      <th>20500568</th>\n      <td>367081260</td>\n      <td>2017-01-31T23:47:25</td>\n      <td>48.00206</td>\n      <td>-122.22301</td>\n      <td>0.0</td>\n      <td>0.0</td>\n      <td>511.0</td>\n      <td>ALASKA VENTURE</td>\n      <td>NaN</td>\n      <td>WDC8074</td>\n      <td>1005.0</td>\n      <td>under way using engine</td>\n      <td>20.94</td>\n      <td>7.9</td>\n      <td>NaN</td>\n      <td>34.0</td>\n    </tr>\n    <tr>\n      <th>20501100</th>\n      <td>367081260</td>\n      <td>2017-01-31T23:50:54</td>\n      <td>48.00206</td>\n      <td>-122.22301</td>\n      <td>0.0</td>\n      <td>0.0</td>\n      <td>511.0</td>\n      <td>ALASKA VENTURE</td>\n      <td>NaN</td>\n      <td>WDC8074</td>\n      <td>1005.0</td>\n      <td>under way using engine</td>\n      <td>20.94</td>\n      <td>7.9</td>\n      <td>NaN</td>\n      <td>34.0</td>\n    </tr>\n    <tr>\n      <th>20501106</th>\n      <td>367081260</td>\n      <td>2017-01-31T23:53:15</td>\n      <td>48.00206</td>\n      <td>-122.22301</td>\n      <td>0.0</td>\n      <td>0.0</td>\n      <td>511.0</td>\n      <td>ALASKA VENTURE</td>\n      <td>NaN</td>\n      <td>WDC8074</td>\n      <td>1005.0</td>\n      <td>under way using engine</td>\n      <td>20.94</td>\n      <td>7.9</td>\n      <td>NaN</td>\n      <td>34.0</td>\n    </tr>\n  </tbody>\n</table>\n<p>6353 rows × 16 columns</p>\n</div>"
     },
     "execution_count": 20,
     "metadata": {},
     "output_type": "execute_result"
    }
   ],
   "source": [
    "fuca[fuca['MMSI']==367081260]"
   ],
   "metadata": {
    "collapsed": false
   }
  },
  {
   "cell_type": "code",
   "execution_count": 3,
   "outputs": [
    {
     "data": {
      "text/plain": "1025.0    5006203\n1019.0    4083549\n1001.0    3055430\n1004.0    2520652\n1012.0    2316741\n1018.0     403862\n52.0       325883\n1024.0     245147\n30.0       229151\n1013.0     171352\n31.0       147640\n50.0       137040\n1005.0      96528\n1011.0      92396\n1002.0      90503\n1020.0      87712\n1010.0      84263\n0.0         61798\n70.0        46366\n51.0        43067\n90.0        37664\n1023.0      36806\n37.0        33663\n1022.0      31705\n53.0        21863\n7.0         20910\n79.0        18923\n33.0        18664\n60.0        14811\n99.0        14596\n1003.0       8677\n1017.0       6631\n32.0         6105\n80.0         5200\n74.0         4955\n71.0         1266\n35.0          912\nName: VesselType, dtype: int64"
     },
     "execution_count": 3,
     "metadata": {},
     "output_type": "execute_result"
    }
   ],
   "source": [
    "fuca['VesselType'].value_counts()"
   ],
   "metadata": {
    "collapsed": false
   }
  },
  {
   "cell_type": "code",
   "execution_count": 10,
   "outputs": [
    {
     "name": "stdout",
     "output_type": "stream",
     "text": [
      "VesselType: 1012.0, count: 132\n",
      "VesselType: 1019.0, count: 752\n",
      "VesselType: 1001.0, count: 262\n",
      "VesselType: 1025.0, count: 306\n",
      "VesselType: 1024.0, count: 45\n",
      "VesselType: 1004.0, count: 448\n",
      "VesselType: 1018.0, count: 65\n",
      "VesselType: 1005.0, count: 14\n",
      "VesselType: 70.0, count: 9\n",
      "VesselType: 30.0, count: 16\n",
      "VesselType: nan, count: 0\n",
      "VesselType: 99.0, count: 2\n",
      "VesselType: 1013.0, count: 14\n",
      "VesselType: 31.0, count: 9\n",
      "VesselType: 1002.0, count: 12\n",
      "VesselType: 53.0, count: 1\n",
      "VesselType: 1011.0, count: 28\n",
      "VesselType: 50.0, count: 5\n",
      "VesselType: 1020.0, count: 12\n",
      "VesselType: 52.0, count: 14\n",
      "VesselType: 1023.0, count: 2\n",
      "VesselType: 37.0, count: 5\n",
      "VesselType: 7.0, count: 1\n",
      "VesselType: 60.0, count: 1\n",
      "VesselType: 90.0, count: 1\n",
      "VesselType: 51.0, count: 3\n",
      "VesselType: 1022.0, count: 1\n",
      "VesselType: 1010.0, count: 7\n",
      "VesselType: 1003.0, count: 4\n",
      "VesselType: 71.0, count: 1\n",
      "VesselType: 0.0, count: 4\n",
      "VesselType: 79.0, count: 2\n",
      "VesselType: 1017.0, count: 1\n",
      "VesselType: 33.0, count: 1\n",
      "VesselType: 32.0, count: 2\n",
      "VesselType: 74.0, count: 1\n",
      "VesselType: 80.0, count: 1\n",
      "VesselType: 35.0, count: 1\n"
     ]
    }
   ],
   "source": [
    "V_type = list(fuca['VesselType'].unique())\n",
    "type_cnt = {}\n",
    "for v in V_type:\n",
    "    cnt = len(fuca[fuca['VesselType'] == v]['MMSI'].unique())\n",
    "    print(f'VesselType: {v}, count: {cnt}')\n",
    "    type_cnt[v] = cnt"
   ],
   "metadata": {
    "collapsed": false
   }
  },
  {
   "cell_type": "code",
   "execution_count": 12,
   "outputs": [
    {
     "data": {
      "text/plain": "{1019.0: 752,\n 1004.0: 448,\n 1025.0: 306,\n 1001.0: 262,\n 1012.0: 132,\n 1018.0: 65,\n 1024.0: 45,\n 1011.0: 28,\n 30.0: 16,\n 1005.0: 14,\n 1013.0: 14,\n 52.0: 14,\n 1002.0: 12,\n 1020.0: 12,\n 70.0: 9,\n 31.0: 9,\n 1010.0: 7,\n 50.0: 5,\n 37.0: 5,\n 1003.0: 4,\n 0.0: 4,\n 51.0: 3,\n 99.0: 2,\n 1023.0: 2,\n 79.0: 2,\n 32.0: 2,\n 53.0: 1,\n 7.0: 1,\n 60.0: 1,\n 90.0: 1,\n 1022.0: 1,\n 71.0: 1,\n 1017.0: 1,\n 33.0: 1,\n 74.0: 1,\n 80.0: 1,\n 35.0: 1,\n nan: 0}"
     },
     "execution_count": 12,
     "metadata": {},
     "output_type": "execute_result"
    }
   ],
   "source": [
    "dict(sorted(type_cnt.items(), key=lambda item: item[1], reverse=True))"
   ],
   "metadata": {
    "collapsed": false
   }
  },
  {
   "cell_type": "code",
   "execution_count": 17,
   "outputs": [
    {
     "data": {
      "text/plain": "               MMSI         BaseDateTime       LAT        LON  SOG    COG  \\\n38        367081260  2017-01-01T00:01:12  48.60392 -123.17231  0.0    0.0   \n145       367081260  2017-01-01T00:02:22  48.60392 -123.17231  0.0    0.0   \n147       367081260  2017-01-01T00:03:32  48.60392 -123.17231  0.0    0.0   \n150       367081260  2017-01-01T00:04:41  48.60392 -123.17231  0.0    0.0   \n454       233933000  2017-01-01T00:02:23  48.41473 -123.38845  0.0  129.5   \n...             ...                  ...       ...        ...  ...    ...   \n20501100  367081260  2017-01-31T23:50:54  48.00206 -122.22301  0.0    0.0   \n20501106  367081260  2017-01-31T23:53:15  48.00206 -122.22301  0.0    0.0   \n20501237  316029591  2017-01-31T23:57:51  49.14311 -123.04947  0.5  172.0   \n20501309  367731850  2017-01-31T23:59:03  47.57049 -122.34589  0.0  165.1   \n20501689  366986380  2017-01-31T23:46:41  45.56700 -122.71559  0.0  -49.6   \n\n          Heading       VesselName         IMO CallSign  VesselType  \\\n38          511.0   ALASKA VENTURE         NaN  WDC8074      1005.0   \n145         511.0   ALASKA VENTURE         NaN  WDC8074      1005.0   \n147         511.0   ALASKA VENTURE         NaN  WDC8074      1005.0   \n150         511.0   ALASKA VENTURE         NaN  WDC8074      1005.0   \n454         264.0  CABLE INNOVATOR  IMO9101132    MVEP4      1005.0   \n...           ...              ...         ...      ...         ...   \n20501100    511.0   ALASKA VENTURE         NaN  WDC8074      1005.0   \n20501106    511.0   ALASKA VENTURE         NaN  WDC8074      1005.0   \n20501237     53.0         FRPD 309  IMO8200826  CFN7067      1005.0   \n20501309    511.0      PRUDHOE BAY         NaN  WDI7750      1005.0   \n20501689    308.0           OREGON         NaN  WUV6842      1005.0   \n\n                              Status  Length  Width  Draft  Cargo  \n38            under way using engine   20.94   7.90    NaN   34.0  \n145           under way using engine   20.94   7.90    NaN   34.0  \n147           under way using engine   20.94   7.90    NaN   34.0  \n150           under way using engine   20.94   7.90    NaN   34.0  \n454                           moored  145.50  24.04    8.5   90.0  \n...                              ...     ...    ...    ...    ...  \n20501100      under way using engine   20.94   7.90    NaN   34.0  \n20501106      under way using engine   20.94   7.90    NaN   34.0  \n20501237  restricted maneuverability  119.41  19.61    5.7    NaN  \n20501309                         NaN   17.71    NaN    NaN    NaN  \n20501689                      moored   60.96    NaN    NaN    NaN  \n\n[96528 rows x 16 columns]",
      "text/html": "<div>\n<style scoped>\n    .dataframe tbody tr th:only-of-type {\n        vertical-align: middle;\n    }\n\n    .dataframe tbody tr th {\n        vertical-align: top;\n    }\n\n    .dataframe thead th {\n        text-align: right;\n    }\n</style>\n<table border=\"1\" class=\"dataframe\">\n  <thead>\n    <tr style=\"text-align: right;\">\n      <th></th>\n      <th>MMSI</th>\n      <th>BaseDateTime</th>\n      <th>LAT</th>\n      <th>LON</th>\n      <th>SOG</th>\n      <th>COG</th>\n      <th>Heading</th>\n      <th>VesselName</th>\n      <th>IMO</th>\n      <th>CallSign</th>\n      <th>VesselType</th>\n      <th>Status</th>\n      <th>Length</th>\n      <th>Width</th>\n      <th>Draft</th>\n      <th>Cargo</th>\n    </tr>\n  </thead>\n  <tbody>\n    <tr>\n      <th>38</th>\n      <td>367081260</td>\n      <td>2017-01-01T00:01:12</td>\n      <td>48.60392</td>\n      <td>-123.17231</td>\n      <td>0.0</td>\n      <td>0.0</td>\n      <td>511.0</td>\n      <td>ALASKA VENTURE</td>\n      <td>NaN</td>\n      <td>WDC8074</td>\n      <td>1005.0</td>\n      <td>under way using engine</td>\n      <td>20.94</td>\n      <td>7.90</td>\n      <td>NaN</td>\n      <td>34.0</td>\n    </tr>\n    <tr>\n      <th>145</th>\n      <td>367081260</td>\n      <td>2017-01-01T00:02:22</td>\n      <td>48.60392</td>\n      <td>-123.17231</td>\n      <td>0.0</td>\n      <td>0.0</td>\n      <td>511.0</td>\n      <td>ALASKA VENTURE</td>\n      <td>NaN</td>\n      <td>WDC8074</td>\n      <td>1005.0</td>\n      <td>under way using engine</td>\n      <td>20.94</td>\n      <td>7.90</td>\n      <td>NaN</td>\n      <td>34.0</td>\n    </tr>\n    <tr>\n      <th>147</th>\n      <td>367081260</td>\n      <td>2017-01-01T00:03:32</td>\n      <td>48.60392</td>\n      <td>-123.17231</td>\n      <td>0.0</td>\n      <td>0.0</td>\n      <td>511.0</td>\n      <td>ALASKA VENTURE</td>\n      <td>NaN</td>\n      <td>WDC8074</td>\n      <td>1005.0</td>\n      <td>under way using engine</td>\n      <td>20.94</td>\n      <td>7.90</td>\n      <td>NaN</td>\n      <td>34.0</td>\n    </tr>\n    <tr>\n      <th>150</th>\n      <td>367081260</td>\n      <td>2017-01-01T00:04:41</td>\n      <td>48.60392</td>\n      <td>-123.17231</td>\n      <td>0.0</td>\n      <td>0.0</td>\n      <td>511.0</td>\n      <td>ALASKA VENTURE</td>\n      <td>NaN</td>\n      <td>WDC8074</td>\n      <td>1005.0</td>\n      <td>under way using engine</td>\n      <td>20.94</td>\n      <td>7.90</td>\n      <td>NaN</td>\n      <td>34.0</td>\n    </tr>\n    <tr>\n      <th>454</th>\n      <td>233933000</td>\n      <td>2017-01-01T00:02:23</td>\n      <td>48.41473</td>\n      <td>-123.38845</td>\n      <td>0.0</td>\n      <td>129.5</td>\n      <td>264.0</td>\n      <td>CABLE INNOVATOR</td>\n      <td>IMO9101132</td>\n      <td>MVEP4</td>\n      <td>1005.0</td>\n      <td>moored</td>\n      <td>145.50</td>\n      <td>24.04</td>\n      <td>8.5</td>\n      <td>90.0</td>\n    </tr>\n    <tr>\n      <th>...</th>\n      <td>...</td>\n      <td>...</td>\n      <td>...</td>\n      <td>...</td>\n      <td>...</td>\n      <td>...</td>\n      <td>...</td>\n      <td>...</td>\n      <td>...</td>\n      <td>...</td>\n      <td>...</td>\n      <td>...</td>\n      <td>...</td>\n      <td>...</td>\n      <td>...</td>\n      <td>...</td>\n    </tr>\n    <tr>\n      <th>20501100</th>\n      <td>367081260</td>\n      <td>2017-01-31T23:50:54</td>\n      <td>48.00206</td>\n      <td>-122.22301</td>\n      <td>0.0</td>\n      <td>0.0</td>\n      <td>511.0</td>\n      <td>ALASKA VENTURE</td>\n      <td>NaN</td>\n      <td>WDC8074</td>\n      <td>1005.0</td>\n      <td>under way using engine</td>\n      <td>20.94</td>\n      <td>7.90</td>\n      <td>NaN</td>\n      <td>34.0</td>\n    </tr>\n    <tr>\n      <th>20501106</th>\n      <td>367081260</td>\n      <td>2017-01-31T23:53:15</td>\n      <td>48.00206</td>\n      <td>-122.22301</td>\n      <td>0.0</td>\n      <td>0.0</td>\n      <td>511.0</td>\n      <td>ALASKA VENTURE</td>\n      <td>NaN</td>\n      <td>WDC8074</td>\n      <td>1005.0</td>\n      <td>under way using engine</td>\n      <td>20.94</td>\n      <td>7.90</td>\n      <td>NaN</td>\n      <td>34.0</td>\n    </tr>\n    <tr>\n      <th>20501237</th>\n      <td>316029591</td>\n      <td>2017-01-31T23:57:51</td>\n      <td>49.14311</td>\n      <td>-123.04947</td>\n      <td>0.5</td>\n      <td>172.0</td>\n      <td>53.0</td>\n      <td>FRPD 309</td>\n      <td>IMO8200826</td>\n      <td>CFN7067</td>\n      <td>1005.0</td>\n      <td>restricted maneuverability</td>\n      <td>119.41</td>\n      <td>19.61</td>\n      <td>5.7</td>\n      <td>NaN</td>\n    </tr>\n    <tr>\n      <th>20501309</th>\n      <td>367731850</td>\n      <td>2017-01-31T23:59:03</td>\n      <td>47.57049</td>\n      <td>-122.34589</td>\n      <td>0.0</td>\n      <td>165.1</td>\n      <td>511.0</td>\n      <td>PRUDHOE BAY</td>\n      <td>NaN</td>\n      <td>WDI7750</td>\n      <td>1005.0</td>\n      <td>NaN</td>\n      <td>17.71</td>\n      <td>NaN</td>\n      <td>NaN</td>\n      <td>NaN</td>\n    </tr>\n    <tr>\n      <th>20501689</th>\n      <td>366986380</td>\n      <td>2017-01-31T23:46:41</td>\n      <td>45.56700</td>\n      <td>-122.71559</td>\n      <td>0.0</td>\n      <td>-49.6</td>\n      <td>308.0</td>\n      <td>OREGON</td>\n      <td>NaN</td>\n      <td>WUV6842</td>\n      <td>1005.0</td>\n      <td>moored</td>\n      <td>60.96</td>\n      <td>NaN</td>\n      <td>NaN</td>\n      <td>NaN</td>\n    </tr>\n  </tbody>\n</table>\n<p>96528 rows × 16 columns</p>\n</div>"
     },
     "execution_count": 17,
     "metadata": {},
     "output_type": "execute_result"
    }
   ],
   "source": [
    "fuca[fuca['VesselType']==1005.0]"
   ],
   "metadata": {
    "collapsed": false
   }
  },
  {
   "cell_type": "code",
   "execution_count": 18,
   "outputs": [
    {
     "name": "stdout",
     "output_type": "stream",
     "text": [
      "31 0.0 31.0 70.0\n",
      "33 0.0 33.0 74.0\n",
      "38 0.0 38.0 82.0\n",
      "43 0.0 43.0 92.0\n",
      "48 0.0 48.0 96.0\n",
      "50 0.0 50.0 100.0\n",
      "53 0.0 53.0 106.0\n",
      "56 0.0 56.0 114.0\n",
      "59 0.0 59.0 122.0\n",
      "58 0.0 58.0 122.0\n",
      "58 0.0 58.0 126.0\n",
      "60 0.0 60.0 130.0\n",
      "63 0.0 63.0 138.0\n",
      "64 0.0 64.0 142.0\n",
      "65 0.0 65.0 142.0\n",
      "62 0.0 62.0 140.0\n",
      "58 0.0 58.0 132.0\n",
      "57 0.0 57.0 130.0\n",
      "56 0.0 56.0 126.0\n",
      "55 0.0 55.0 122.0\n",
      "54 0.0 54.0 116.0\n",
      "53 0.0 53.0 112.0\n",
      "53 0.0 53.0 108.0\n",
      "49 0.0 49.0 98.0\n",
      "50 0.0 50.0 100.0\n",
      "48 0.0 48.0 98.0\n",
      "49 0.0 49.0 106.0\n",
      "51 0.0 51.0 112.0\n",
      "52 0.0 52.0 114.0\n",
      "55 0.0 55.0 122.0\n",
      "55 0.0 55.0 122.0\n",
      "57 0.0 57.0 126.0\n",
      "59 0.0 59.0 130.0\n",
      "61 0.0 61.0 130.0\n",
      "62 0.0 62.0 122.0\n",
      "62 0.0 62.0 116.0\n",
      "59 0.0 59.0 110.0\n",
      "60 0.0 60.0 108.0\n",
      "57 0.0 57.0 106.0\n",
      "55 0.0 55.0 104.0\n",
      "55 0.0 55.0 102.0\n",
      "53 0.0 53.0 100.0\n",
      "52 0.0 52.0 96.0\n",
      "52 0.0 52.0 94.0\n",
      "53 0.0 53.0 94.0\n",
      "52 0.0 52.0 96.0\n",
      "52 0.0 52.0 102.0\n",
      "52 0.0 52.0 106.0\n",
      "54 0.0 54.0 108.0\n",
      "51 0.0 51.0 108.0\n",
      "53 0.0 53.0 110.0\n",
      "55 0.0 55.0 112.0\n",
      "54 0.0 54.0 114.0\n",
      "54 0.0 54.0 110.0\n",
      "53 0.0 53.0 106.0\n",
      "52 0.0 52.0 106.0\n",
      "51 0.0 51.0 108.0\n",
      "50 0.0 50.0 110.0\n",
      "49 0.0 49.0 112.0\n",
      "49 0.0 49.0 112.0\n",
      "50 0.0 50.0 116.0\n",
      "50 0.0 50.0 116.0\n",
      "48 0.0 48.0 118.0\n",
      "46 0.0 46.0 116.0\n",
      "48 0.0 48.0 118.0\n",
      "49 0.0 49.0 122.0\n",
      "51 0.0 51.0 122.0\n",
      "53 0.0 53.0 126.0\n",
      "53 0.0 53.0 126.0\n",
      "54 0.0 54.0 126.0\n",
      "55 0.0 55.0 124.0\n",
      "54 0.0 54.0 122.0\n",
      "55 0.0 55.0 120.0\n",
      "55 0.0 55.0 118.0\n",
      "59 0.0 59.0 118.0\n",
      "60 0.0 60.0 118.0\n",
      "59 0.0 59.0 116.0\n",
      "60 0.0 60.0 120.0\n",
      "60 0.0 60.0 122.0\n",
      "59 0.0 59.0 126.0\n",
      "58 0.0 58.0 126.0\n",
      "57 0.0 57.0 128.0\n",
      "56 0.0 56.0 126.0\n",
      "56 0.0 56.0 126.0\n",
      "55 0.0 55.0 124.0\n",
      "56 0.0 56.0 124.0\n",
      "55 0.0 55.0 122.0\n",
      "54 0.0 54.0 118.0\n",
      "55 0.0 55.0 116.0\n",
      "56 0.0 56.0 114.0\n",
      "53 0.0 53.0 104.0\n",
      "48 0.0 48.0 94.0\n",
      "46 0.0 46.0 90.0\n",
      "42 0.0 42.0 82.0\n",
      "38 0.0 38.0 74.0\n",
      "0\n",
      "6 0.0 6.0 16.0\n",
      "0\n",
      "19 0.0 19.0 42.0\n",
      "16 0.0 16.0 36.0\n",
      "13 0.0 13.0 30.0\n",
      "8 0.0 8.0 20.0\n",
      "7 0.0 7.0 18.0\n",
      "10 0.0 10.0 24.0\n",
      "12 0.0 12.0 28.0\n",
      "16 0.0 16.0 36.0\n",
      "22 0.0 22.0 46.0\n",
      "26 0.0 26.0 54.0\n",
      "30 0.0 30.0 62.0\n",
      "34 0.0 34.0 70.0\n",
      "39 0.0 39.0 80.0\n",
      "44 0.0 44.0 90.0\n",
      "48 0.0 48.0 94.0\n",
      "53 0.0 53.0 104.0\n",
      "59 0.0 59.0 116.0\n",
      "58 0.0 58.0 122.0\n",
      "59 0.0 59.0 124.0\n",
      "59 0.0 59.0 126.0\n",
      "57 0.0 57.0 122.0\n",
      "56 0.0 56.0 122.0\n",
      "55 0.0 55.0 122.0\n",
      "53 0.0 53.0 120.0\n",
      "52 0.0 52.0 122.0\n",
      "50 0.0 50.0 120.0\n",
      "50 0.0 50.0 122.0\n",
      "49 0.0 49.0 120.0\n",
      "46 0.0 46.0 118.0\n",
      "45 0.0 45.0 116.0\n",
      "44 0.0 44.0 116.0\n",
      "42 0.0 42.0 110.0\n",
      "0\n"
     ]
    }
   ],
   "source": [
    "# MMSI에 대한 기록 추출\n",
    "MMSI = 367081260\n",
    "rec1 = fuca[fuca['MMSI'] == MMSI].sort_values('BaseDateTime', ascending=True).reset_index(drop=True)\n",
    "\n",
    "Dk = rec1['Length'].min() * 0.001 * 4.5\n",
    "m = 60*2\n",
    "def is_stopping_point(prev, cur):\n",
    "    a = prev[0] - cur['LAT']\n",
    "    b = prev[1] - cur['LON']\n",
    "    dist = math.sqrt((a*a + b*b)) * 111.32\n",
    "    if dist < Dk:\n",
    "        return True\n",
    "    else:\n",
    "        return False\n",
    "\n",
    "# stopping points 제거\n",
    "index = []      # moving points 저장하는 리스트\n",
    "moving_points = []\n",
    "cur_loc = rec1.loc[0]\n",
    "index.append(0)\n",
    "start_index = 0\n",
    "end_index = 0\n",
    "flag = -1\n",
    "moving_points.append((cur_loc['LAT'], cur_loc['LON']))\n",
    "\n",
    "for i in range(1, len(rec1)):\n",
    "    cur_loc = rec1.loc[i]\n",
    "    prev_loc = moving_points[-1]\n",
    "    if is_stopping_point(prev_loc, cur_loc):\n",
    "        if flag == 0:\n",
    "            start_index = i\n",
    "            flag = 1\n",
    "    else:\n",
    "        if flag == 1:\n",
    "            end_index = i-1\n",
    "            flag = 0\n",
    "            term = pd.to_datetime(rec1['BaseDateTime'][end_index]) - pd.to_datetime(rec1['BaseDateTime'][start_index])\n",
    "            if term < timedelta(minutes=60):\n",
    "                index.extend(x for x in range(start_index, end_index+1))\n",
    "        elif flag == -1:\n",
    "            flag = 0\n",
    "\n",
    "        moving_points.append((cur_loc['LAT'], cur_loc['LON']))\n",
    "        index.append(i)\n",
    "\n",
    "# moving points만 추출\n",
    "moving = rec1.reset_index(drop=True).iloc[index].reset_index()\n",
    "\n",
    "# grid mapping. z=16\n",
    "z = 16\n",
    "moving['x'] = ((moving[\"LON\"] + 180) / 360) * (2 ** z)\n",
    "moving['y'] = (1 - np.log(np.tan(math.pi * moving[\"LAT\"] / 180) + 1 / np.cos(math.pi * moving[\"LAT\"] / 180)) / math.pi) * (2 ** (z - 1))\n",
    "\n",
    "# moving trajectory 시작 index 저장하기\n",
    "MT_index = []\n",
    "for i in range(1, len(moving['index'])):\n",
    "    diff = moving['index'][i] - moving['index'][i-1]\n",
    "    if diff > 1:\n",
    "        MT_index.append(i)\n",
    "\n",
    "# n, c 계산\n",
    "cnt = 0\n",
    "loitering_index = []\n",
    "for i in range(len(MT_index)-1):\n",
    "    if MT_index[i+1] - MT_index[i] < m: continue\n",
    "    MT = moving.iloc[MT_index[i]:MT_index[i+1]]\n",
    "    for k in range(0, len(MT)-m, 10):\n",
    "        MT1 = MT.iloc[k:k+m]\n",
    "        n_o = []\n",
    "        for j in range(len(MT1)):\n",
    "            n_o.append((np.floor(MT1.iloc[j]['x']), np.floor(MT1.iloc[j]['y'])))\n",
    "        n_o = len(set(n_o))\n",
    "        n_c = 0\n",
    "        for j in range(len(MT1)-1):\n",
    "            dx = np.abs(np.floor(MT1.iloc[j]['x']) - np.floor(MT1.iloc[j+1]['x']))\n",
    "            dy = np.abs(np.floor(MT1.iloc[j]['y']) - np.floor(MT1.iloc[j+1]['y']))\n",
    "            n_c += max(max(dx, dy)-1, 0)\n",
    "        n = n_o + n_c\n",
    "        c = ((np.ceil(MT1['x'].max()) - np.floor(MT1['x'].min())) + (np.ceil(MT1['y'].max()) - np.floor(MT1['y'].min()))) * 2\n",
    "        if n >= c:\n",
    "            cnt += 1\n",
    "            loitering_index.append(MT_index[i]+k)\n",
    "        print(n_o, n_c, n, c)\n",
    "    print(cnt)"
   ],
   "metadata": {
    "collapsed": false
   }
  },
  {
   "cell_type": "code",
   "execution_count": 100,
   "outputs": [
    {
     "data": {
      "text/plain": "[1,\n 3,\n 6,\n 17,\n 19,\n 21,\n 32,\n 34,\n 36,\n 38,\n 40,\n 44,\n 46,\n 48,\n 50,\n 52,\n 56,\n 58,\n 60,\n 63,\n 65,\n 68,\n 77,\n 79,\n 81,\n 82,\n 83,\n 85]"
     },
     "execution_count": 100,
     "metadata": {},
     "output_type": "execute_result"
    }
   ],
   "source": [
    "MT_index"
   ],
   "metadata": {
    "collapsed": false
   }
  },
  {
   "cell_type": "code",
   "execution_count": 78,
   "outputs": [
    {
     "data": {
      "text/plain": "2172"
     },
     "execution_count": 78,
     "metadata": {},
     "output_type": "execute_result"
    }
   ],
   "source": [
    "len(loitering_index)"
   ],
   "metadata": {
    "collapsed": false
   }
  },
  {
   "cell_type": "code",
   "execution_count": 123,
   "outputs": [
    {
     "data": {
      "text/plain": "[274, 394]"
     },
     "execution_count": 123,
     "metadata": {},
     "output_type": "execute_result"
    }
   ],
   "source": [
    "loitering_index"
   ],
   "metadata": {
    "collapsed": false
   }
  },
  {
   "cell_type": "code",
   "execution_count": 127,
   "outputs": [
    {
     "ename": "NameError",
     "evalue": "name 'neveruse' is not defined",
     "output_type": "error",
     "traceback": [
      "\u001B[0;31m---------------------------------------------------------------------------\u001B[0m",
      "\u001B[0;31mNameError\u001B[0m                                 Traceback (most recent call last)",
      "Cell \u001B[0;32mIn[127], line 8\u001B[0m\n\u001B[1;32m      6\u001B[0m     plt\u001B[38;5;241m.\u001B[39mylim(moving[\u001B[38;5;124m'\u001B[39m\u001B[38;5;124my\u001B[39m\u001B[38;5;124m'\u001B[39m]\u001B[38;5;241m.\u001B[39mmin()\u001B[38;5;241m-\u001B[39m\u001B[38;5;241m10\u001B[39m, moving[\u001B[38;5;124m'\u001B[39m\u001B[38;5;124my\u001B[39m\u001B[38;5;124m'\u001B[39m]\u001B[38;5;241m.\u001B[39mmax()\u001B[38;5;241m+\u001B[39m\u001B[38;5;241m10\u001B[39m)\n\u001B[1;32m      7\u001B[0m     plt\u001B[38;5;241m.\u001B[39msavefig(\u001B[38;5;124mf\u001B[39m\u001B[38;5;124m'\u001B[39m\u001B[38;5;124m./image/\u001B[39m\u001B[38;5;132;01m{\u001B[39;00mMMSI\u001B[38;5;132;01m}\u001B[39;00m\u001B[38;5;124m/\u001B[39m\u001B[38;5;132;01m{\u001B[39;00mloit\u001B[38;5;132;01m}\u001B[39;00m\u001B[38;5;124m.png\u001B[39m\u001B[38;5;124m'\u001B[39m)\n\u001B[0;32m----> 8\u001B[0m \u001B[38;5;28;01mdel\u001B[39;00m(neveruse)\n",
      "\u001B[0;31mNameError\u001B[0m: name 'neveruse' is not defined"
     ]
    }
   ],
   "source": [
    "%%capture neveruse\n",
    "# loitering = moving[MT_index[1]:MT_index[2]]\n",
    "for loit in loitering_index:\n",
    "    loitering = moving[loit:loit+m]\n",
    "    loitering.plot(kind='line', x='x', y='y', figsize=(10,10))\n",
    "    plt.xlim(moving['x'].min()-10, moving['x'].max()+10)\n",
    "    plt.ylim(moving['y'].min()-10, moving['y'].max()+10)\n",
    "    plt.savefig(f'./image/{MMSI}/{loit}.png')\n",
    "del(neveruse)"
   ],
   "metadata": {
    "collapsed": false
   }
  },
  {
   "cell_type": "code",
   "execution_count": 38,
   "outputs": [],
   "source": [
    "%%capture neveruse\n",
    "# loitering = moving[MT_index[1]:MT_index[2]]\n",
    "for loit in loitering_index:\n",
    "    loitering = moving[loit:loit+m]\n",
    "    loitering.plot(kind='scatter', x='x', y='y', figsize=(10,10), s=3)\n",
    "    plt.xlim(loitering['x'].min()-5, loitering['x'].max()+5)\n",
    "    plt.ylim(loitering['y'].min()-5, loitering['y'].max()+5)\n",
    "    plt.savefig(f'./image/{MMSI}/{loit}.png')\n",
    "del(neveruse)"
   ],
   "metadata": {
    "collapsed": false
   }
  },
  {
   "cell_type": "code",
   "execution_count": 80,
   "outputs": [],
   "source": [
    "del(neveruse)"
   ],
   "metadata": {
    "collapsed": false
   }
  },
  {
   "cell_type": "code",
   "execution_count": null,
   "outputs": [],
   "source": [
    "moving.plot(kind='scatter', x='x', y='y', figsize=(10,10), s=3)\n",
    "plt.show()"
   ],
   "metadata": {
    "collapsed": false
   }
  },
  {
   "cell_type": "code",
   "execution_count": 19,
   "outputs": [
    {
     "data": {
      "text/plain": "<Figure size 1000x1000 with 1 Axes>",
      "image/png": "[encoded data removed]"
     },
     "metadata": {},
     "output_type": "display_data"
    }
   ],
   "source": [
    "rec1.plot(kind='line', x='LON', y='LAT', figsize=(10,10))\n",
    "plt.show()"
   ],
   "metadata": {
    "collapsed": false
   }
  },
  {
   "cell_type": "code",
   "execution_count": null,
   "outputs": [],
   "source": [
    "mapit = folium.Map(location=[moving['LAT'].mean(), moving['LON'].mean()], zoom_start=9)\n",
    "for coord in moving_points:\n",
    "    folium.Circle(location=[coord[0], coord[1]], color='green', radius=3).add_to(mapit)\n",
    "\n",
    "mapit.save('face.html')"
   ],
   "metadata": {
    "collapsed": false
   }
  },
  {
   "cell_type": "code",
   "execution_count": null,
   "outputs": [],
   "source": [
    "moving"
   ],
   "metadata": {
    "collapsed": false
   }
  },
  {
   "cell_type": "code",
   "execution_count": 109,
   "outputs": [],
   "source": [
    "temp = []\n",
    "for i in range(len(rec1)):\n",
    "    temp.append((rec1['LAT'][i], rec1['LON'][i]))"
   ],
   "metadata": {
    "collapsed": false
   }
  },
  {
   "cell_type": "code",
   "execution_count": 113,
   "outputs": [],
   "source": [
    "mapit = folium.Map(location=[rec1['LAT'].mean(), rec1['LON'].mean()], zoom_start=9)\n",
    "for coord in temp:\n",
    "    folium.Circle(location=[coord[0], coord[1]], color='green', radius=3).add_to(mapit)\n",
    "\n",
    "mapit.save('face.html')"
   ],
   "metadata": {
    "collapsed": false
   }
  },
  {
   "cell_type": "code",
   "execution_count": 111,
   "outputs": [
    {
     "data": {
      "text/plain": "            MMSI         BaseDateTime       LAT        LON  SOG    COG  \\\n0      367531260  2017-01-01T00:00:00  46.16906 -123.91375  0.0    0.0   \n1      367531260  2017-01-01T00:01:16  46.16907 -123.91376  0.0    0.0   \n2      367531260  2017-01-01T00:02:17  46.16905 -123.91378  0.0    0.0   \n3      367531260  2017-01-01T00:03:19  46.16905 -123.91376  0.0    0.0   \n4      367531260  2017-01-01T00:04:25  46.16903 -123.91373  0.0    0.0   \n...          ...                  ...       ...        ...  ...    ...   \n39445  367531260  2017-01-31T23:55:11  46.52273 -124.27290  7.2 -141.9   \n39446  367531260  2017-01-31T23:56:13  46.52295 -124.27582  8.0 -131.5   \n39447  367531260  2017-01-31T23:57:19  46.52262 -124.27924  7.1 -155.9   \n39448  367531260  2017-01-31T23:58:20  46.52236 -124.28218  7.2 -135.2   \n39449  367531260  2017-01-31T23:59:39  46.52164 -124.28503  3.3  189.8   \n\n       Heading VesselName         IMO CallSign  VesselType  \\\n0        511.0  SOUTHEAST  IMO8855994  WDG3942      1001.0   \n1        511.0  SOUTHEAST  IMO8855994  WDG3942      1001.0   \n2        511.0  SOUTHEAST  IMO8855994  WDG3942      1001.0   \n3        511.0  SOUTHEAST  IMO8855994  WDG3942      1001.0   \n4        511.0  SOUTHEAST  IMO8855994  WDG3942      1001.0   \n...        ...        ...         ...      ...         ...   \n39445    511.0  SOUTHEAST  IMO8855994  WDG3942      1001.0   \n39446    511.0  SOUTHEAST  IMO8855994  WDG3942      1001.0   \n39447    511.0  SOUTHEAST  IMO8855994  WDG3942      1001.0   \n39448    511.0  SOUTHEAST  IMO8855994  WDG3942      1001.0   \n39449    511.0  SOUTHEAST  IMO8855994  WDG3942      1001.0   \n\n                       Status  Length  Width  Draft  Cargo  counts  \n0      under way using engine   20.12   6.71    NaN    NaN     NaN  \n1      under way using engine   20.12   6.71    NaN    NaN     NaN  \n2      under way using engine   20.12   6.71    NaN    NaN     NaN  \n3      under way using engine   20.12   6.71    NaN    NaN     NaN  \n4      under way using engine   20.12   6.71    NaN    NaN     NaN  \n...                       ...     ...    ...    ...    ...     ...  \n39445  under way using engine   20.12   6.71    NaN    NaN     NaN  \n39446  under way using engine   20.12   6.71    NaN    NaN     NaN  \n39447  under way using engine   20.12   6.71    NaN    NaN     NaN  \n39448  under way using engine   20.12   6.71    NaN    NaN     NaN  \n39449  under way using engine   20.12   6.71    NaN    NaN     NaN  \n\n[39450 rows x 17 columns]",
      "text/html": "<div>\n<style scoped>\n    .dataframe tbody tr th:only-of-type {\n        vertical-align: middle;\n    }\n\n    .dataframe tbody tr th {\n        vertical-align: top;\n    }\n\n    .dataframe thead th {\n        text-align: right;\n    }\n</style>\n<table border=\"1\" class=\"dataframe\">\n  <thead>\n    <tr style=\"text-align: right;\">\n      <th></th>\n      <th>MMSI</th>\n      <th>BaseDateTime</th>\n      <th>LAT</th>\n      <th>LON</th>\n      <th>SOG</th>\n      <th>COG</th>\n      <th>Heading</th>\n      <th>VesselName</th>\n      <th>IMO</th>\n      <th>CallSign</th>\n      <th>VesselType</th>\n      <th>Status</th>\n      <th>Length</th>\n      <th>Width</th>\n      <th>Draft</th>\n      <th>Cargo</th>\n      <th>counts</th>\n    </tr>\n  </thead>\n  <tbody>\n    <tr>\n      <th>0</th>\n      <td>367531260</td>\n      <td>2017-01-01T00:00:00</td>\n      <td>46.16906</td>\n      <td>-123.91375</td>\n      <td>0.0</td>\n      <td>0.0</td>\n      <td>511.0</td>\n      <td>SOUTHEAST</td>\n      <td>IMO8855994</td>\n      <td>WDG3942</td>\n      <td>1001.0</td>\n      <td>under way using engine</td>\n      <td>20.12</td>\n      <td>6.71</td>\n      <td>NaN</td>\n      <td>NaN</td>\n      <td>NaN</td>\n    </tr>\n    <tr>\n      <th>1</th>\n      <td>367531260</td>\n      <td>2017-01-01T00:01:16</td>\n      <td>46.16907</td>\n      <td>-123.91376</td>\n      <td>0.0</td>\n      <td>0.0</td>\n      <td>511.0</td>\n      <td>SOUTHEAST</td>\n      <td>IMO8855994</td>\n      <td>WDG3942</td>\n      <td>1001.0</td>\n      <td>under way using engine</td>\n      <td>20.12</td>\n      <td>6.71</td>\n      <td>NaN</td>\n      <td>NaN</td>\n      <td>NaN</td>\n    </tr>\n    <tr>\n      <th>2</th>\n      <td>367531260</td>\n      <td>2017-01-01T00:02:17</td>\n      <td>46.16905</td>\n      <td>-123.91378</td>\n      <td>0.0</td>\n      <td>0.0</td>\n      <td>511.0</td>\n      <td>SOUTHEAST</td>\n      <td>IMO8855994</td>\n      <td>WDG3942</td>\n      <td>1001.0</td>\n      <td>under way using engine</td>\n      <td>20.12</td>\n      <td>6.71</td>\n      <td>NaN</td>\n      <td>NaN</td>\n      <td>NaN</td>\n    </tr>\n    <tr>\n      <th>3</th>\n      <td>367531260</td>\n      <td>2017-01-01T00:03:19</td>\n      <td>46.16905</td>\n      <td>-123.91376</td>\n      <td>0.0</td>\n      <td>0.0</td>\n      <td>511.0</td>\n      <td>SOUTHEAST</td>\n      <td>IMO8855994</td>\n      <td>WDG3942</td>\n      <td>1001.0</td>\n      <td>under way using engine</td>\n      <td>20.12</td>\n      <td>6.71</td>\n      <td>NaN</td>\n      <td>NaN</td>\n      <td>NaN</td>\n    </tr>\n    <tr>\n      <th>4</th>\n      <td>367531260</td>\n      <td>2017-01-01T00:04:25</td>\n      <td>46.16903</td>\n      <td>-123.91373</td>\n      <td>0.0</td>\n      <td>0.0</td>\n      <td>511.0</td>\n      <td>SOUTHEAST</td>\n      <td>IMO8855994</td>\n      <td>WDG3942</td>\n      <td>1001.0</td>\n      <td>under way using engine</td>\n      <td>20.12</td>\n      <td>6.71</td>\n      <td>NaN</td>\n      <td>NaN</td>\n      <td>NaN</td>\n    </tr>\n    <tr>\n      <th>...</th>\n      <td>...</td>\n      <td>...</td>\n      <td>...</td>\n      <td>...</td>\n      <td>...</td>\n      <td>...</td>\n      <td>...</td>\n      <td>...</td>\n      <td>...</td>\n      <td>...</td>\n      <td>...</td>\n      <td>...</td>\n      <td>...</td>\n      <td>...</td>\n      <td>...</td>\n      <td>...</td>\n      <td>...</td>\n    </tr>\n    <tr>\n      <th>39445</th>\n      <td>367531260</td>\n      <td>2017-01-31T23:55:11</td>\n      <td>46.52273</td>\n      <td>-124.27290</td>\n      <td>7.2</td>\n      <td>-141.9</td>\n      <td>511.0</td>\n      <td>SOUTHEAST</td>\n      <td>IMO8855994</td>\n      <td>WDG3942</td>\n      <td>1001.0</td>\n      <td>under way using engine</td>\n      <td>20.12</td>\n      <td>6.71</td>\n      <td>NaN</td>\n      <td>NaN</td>\n      <td>NaN</td>\n    </tr>\n    <tr>\n      <th>39446</th>\n      <td>367531260</td>\n      <td>2017-01-31T23:56:13</td>\n      <td>46.52295</td>\n      <td>-124.27582</td>\n      <td>8.0</td>\n      <td>-131.5</td>\n      <td>511.0</td>\n      <td>SOUTHEAST</td>\n      <td>IMO8855994</td>\n      <td>WDG3942</td>\n      <td>1001.0</td>\n      <td>under way using engine</td>\n      <td>20.12</td>\n      <td>6.71</td>\n      <td>NaN</td>\n      <td>NaN</td>\n      <td>NaN</td>\n    </tr>\n    <tr>\n      <th>39447</th>\n      <td>367531260</td>\n      <td>2017-01-31T23:57:19</td>\n      <td>46.52262</td>\n      <td>-124.27924</td>\n      <td>7.1</td>\n      <td>-155.9</td>\n      <td>511.0</td>\n      <td>SOUTHEAST</td>\n      <td>IMO8855994</td>\n      <td>WDG3942</td>\n      <td>1001.0</td>\n      <td>under way using engine</td>\n      <td>20.12</td>\n      <td>6.71</td>\n      <td>NaN</td>\n      <td>NaN</td>\n      <td>NaN</td>\n    </tr>\n    <tr>\n      <th>39448</th>\n      <td>367531260</td>\n      <td>2017-01-31T23:58:20</td>\n      <td>46.52236</td>\n      <td>-124.28218</td>\n      <td>7.2</td>\n      <td>-135.2</td>\n      <td>511.0</td>\n      <td>SOUTHEAST</td>\n      <td>IMO8855994</td>\n      <td>WDG3942</td>\n      <td>1001.0</td>\n      <td>under way using engine</td>\n      <td>20.12</td>\n      <td>6.71</td>\n      <td>NaN</td>\n      <td>NaN</td>\n      <td>NaN</td>\n    </tr>\n    <tr>\n      <th>39449</th>\n      <td>367531260</td>\n      <td>2017-01-31T23:59:39</td>\n      <td>46.52164</td>\n      <td>-124.28503</td>\n      <td>3.3</td>\n      <td>189.8</td>\n      <td>511.0</td>\n      <td>SOUTHEAST</td>\n      <td>IMO8855994</td>\n      <td>WDG3942</td>\n      <td>1001.0</td>\n      <td>under way using engine</td>\n      <td>20.12</td>\n      <td>6.71</td>\n      <td>NaN</td>\n      <td>NaN</td>\n      <td>NaN</td>\n    </tr>\n  </tbody>\n</table>\n<p>39450 rows × 17 columns</p>\n</div>"
     },
     "execution_count": 111,
     "metadata": {},
     "output_type": "execute_result"
    }
   ],
   "source": [
    "rec1"
   ],
   "metadata": {
    "collapsed": false
   }
  },
  {
   "cell_type": "code",
   "execution_count": 131,
   "outputs": [
    {
     "data": {
      "text/plain": "<Axes: xlabel='x'>"
     },
     "execution_count": 131,
     "metadata": {},
     "output_type": "execute_result"
    },
    {
     "data": {
      "text/plain": "<Figure size 1000x1000 with 1 Axes>",
      "image/png": "[encoded data removed]"
     },
     "metadata": {},
     "output_type": "display_data"
    }
   ],
   "source": [
    "st = 394\n",
    "temp_df = moving[st:st+m]\n",
    "temp_df.plot(kind='line', x='x', y='y', figsize=(10,10))"
   ],
   "metadata": {
    "collapsed": false
   }
  },
  {
   "cell_type": "code",
   "execution_count": null,
   "outputs": [],
   "source": [],
   "metadata": {
    "collapsed": false
   }
  }
 ],
 "metadata": {
  "kernelspec": {
   "name": "py38",
   "language": "python",
   "display_name": "py38"
  },
  "language_info": {
   "codemirror_mode": {
    "name": "ipython",
    "version": 2
   },
   "file_extension": ".py",
   "mimetype": "text/x-python",
   "name": "python",
   "nbconvert_exporter": "python",
   "pygments_lexer": "ipython2",
   "version": "2.7.6"
  }
 },
 "nbformat": 4,
 "nbformat_minor": 0
}
